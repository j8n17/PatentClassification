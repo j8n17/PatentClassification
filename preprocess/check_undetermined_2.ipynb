{
 "cells": [
  {
   "cell_type": "code",
   "execution_count": 1,
   "metadata": {},
   "outputs": [],
   "source": [
    "import pandas as pd\n",
    "from IPython.display import display\n",
    "import ipywidgets as widgets\n",
    "import warnings\n",
    "warnings.filterwarnings('ignore')\n",
    "\n",
    "# import random\n",
    "# text_df = pd.read_csv('./baseline/train.csv')\n",
    "# random.seed(0)\n",
    "# indices = list(text_df.index.values)\n",
    "# random.shuffle(indices)\n",
    "# text_df = text_df.loc[indices].reset_index(drop=True)\n",
    "# text_df.to_csv('./train_shuffle.csv', index=False)"
   ]
  },
  {
   "cell_type": "code",
   "execution_count": 2,
   "metadata": {},
   "outputs": [],
   "source": [
    "special_df = pd.read_csv('./special_to_normal_first.csv')\n",
    "text_df = pd.read_csv('./train_shuffle.csv')"
   ]
  },
  {
   "cell_type": "code",
   "execution_count": 3,
   "metadata": {},
   "outputs": [
    {
     "data": {
      "text/html": [
       "<div>\n",
       "<style scoped>\n",
       "    .dataframe tbody tr th:only-of-type {\n",
       "        vertical-align: middle;\n",
       "    }\n",
       "\n",
       "    .dataframe tbody tr th {\n",
       "        vertical-align: top;\n",
       "    }\n",
       "\n",
       "    .dataframe thead th {\n",
       "        text-align: right;\n",
       "    }\n",
       "</style>\n",
       "<table border=\"1\" class=\"dataframe\">\n",
       "  <thead>\n",
       "    <tr style=\"text-align: right;\">\n",
       "      <th></th>\n",
       "      <th>specials</th>\n",
       "      <th>convert</th>\n",
       "    </tr>\n",
       "  </thead>\n",
       "  <tbody>\n",
       "    <tr>\n",
       "      <th>13</th>\n",
       "      <td>'</td>\n",
       "      <td>NaN</td>\n",
       "    </tr>\n",
       "    <tr>\n",
       "      <th>48</th>\n",
       "      <td>′</td>\n",
       "      <td>NaN</td>\n",
       "    </tr>\n",
       "    <tr>\n",
       "      <th>51</th>\n",
       "      <td>±</td>\n",
       "      <td>NaN</td>\n",
       "    </tr>\n",
       "    <tr>\n",
       "      <th>52</th>\n",
       "      <td>“</td>\n",
       "      <td>NaN</td>\n",
       "    </tr>\n",
       "    <tr>\n",
       "      <th>53</th>\n",
       "      <td>”</td>\n",
       "      <td>NaN</td>\n",
       "    </tr>\n",
       "    <tr>\n",
       "      <th>54</th>\n",
       "      <td>″</td>\n",
       "      <td>NaN</td>\n",
       "    </tr>\n",
       "    <tr>\n",
       "      <th>84</th>\n",
       "      <td>`</td>\n",
       "      <td>NaN</td>\n",
       "    </tr>\n",
       "    <tr>\n",
       "      <th>91</th>\n",
       "      <td>˝</td>\n",
       "      <td>NaN</td>\n",
       "    </tr>\n",
       "    <tr>\n",
       "      <th>92</th>\n",
       "      <td>´</td>\n",
       "      <td>NaN</td>\n",
       "    </tr>\n",
       "    <tr>\n",
       "      <th>98</th>\n",
       "      <td>#</td>\n",
       "      <td>NaN</td>\n",
       "    </tr>\n",
       "    <tr>\n",
       "      <th>99</th>\n",
       "      <td>\\</td>\n",
       "      <td>NaN</td>\n",
       "    </tr>\n",
       "    <tr>\n",
       "      <th>107</th>\n",
       "      <td>∥</td>\n",
       "      <td>NaN</td>\n",
       "    </tr>\n",
       "    <tr>\n",
       "      <th>108</th>\n",
       "      <td>⊥</td>\n",
       "      <td>NaN</td>\n",
       "    </tr>\n",
       "    <tr>\n",
       "      <th>126</th>\n",
       "      <td>＇</td>\n",
       "      <td>NaN</td>\n",
       "    </tr>\n",
       "    <tr>\n",
       "      <th>134</th>\n",
       "      <td>’</td>\n",
       "      <td>NaN</td>\n",
       "    </tr>\n",
       "    <tr>\n",
       "      <th>160</th>\n",
       "      <td>＃</td>\n",
       "      <td>NaN</td>\n",
       "    </tr>\n",
       "    <tr>\n",
       "      <th>196</th>\n",
       "      <td>‘</td>\n",
       "      <td>NaN</td>\n",
       "    </tr>\n",
       "    <tr>\n",
       "      <th>213</th>\n",
       "      <td>◎</td>\n",
       "      <td>NaN</td>\n",
       "    </tr>\n",
       "    <tr>\n",
       "      <th>220</th>\n",
       "      <td>※</td>\n",
       "      <td>NaN</td>\n",
       "    </tr>\n",
       "    <tr>\n",
       "      <th>237</th>\n",
       "      <td>!</td>\n",
       "      <td>NaN</td>\n",
       "    </tr>\n",
       "    <tr>\n",
       "      <th>251</th>\n",
       "      <td>＊</td>\n",
       "      <td>NaN</td>\n",
       "    </tr>\n",
       "    <tr>\n",
       "      <th>285</th>\n",
       "      <td>@</td>\n",
       "      <td>NaN</td>\n",
       "    </tr>\n",
       "    <tr>\n",
       "      <th>286</th>\n",
       "      <td>￠</td>\n",
       "      <td>NaN</td>\n",
       "    </tr>\n",
       "    <tr>\n",
       "      <th>325</th>\n",
       "      <td>＂</td>\n",
       "      <td>NaN</td>\n",
       "    </tr>\n",
       "    <tr>\n",
       "      <th>337</th>\n",
       "      <td>³</td>\n",
       "      <td>NaN</td>\n",
       "    </tr>\n",
       "    <tr>\n",
       "      <th>339</th>\n",
       "      <td>●</td>\n",
       "      <td>NaN</td>\n",
       "    </tr>\n",
       "  </tbody>\n",
       "</table>\n",
       "</div>"
      ],
      "text/plain": [
       "    specials convert\n",
       "13         '     NaN\n",
       "48         ′     NaN\n",
       "51         ±     NaN\n",
       "52         “     NaN\n",
       "53         ”     NaN\n",
       "54         ″     NaN\n",
       "84         `     NaN\n",
       "91         ˝     NaN\n",
       "92         ´     NaN\n",
       "98         #     NaN\n",
       "99         \\     NaN\n",
       "107        ∥     NaN\n",
       "108        ⊥     NaN\n",
       "126        ＇     NaN\n",
       "134        ’     NaN\n",
       "160        ＃     NaN\n",
       "196        ‘     NaN\n",
       "213        ◎     NaN\n",
       "220        ※     NaN\n",
       "237        !     NaN\n",
       "251        ＊     NaN\n",
       "285        @     NaN\n",
       "286        ￠     NaN\n",
       "325        ＂     NaN\n",
       "337        ³     NaN\n",
       "339        ●     NaN"
      ]
     },
     "execution_count": 3,
     "metadata": {},
     "output_type": "execute_result"
    }
   ],
   "source": [
    "# 얘네는 변경이 아니라 삭제할 특수문자들\n",
    "special_df[special_df['convert'].isna()]"
   ]
  },
  {
   "cell_type": "code",
   "execution_count": 4,
   "metadata": {},
   "outputs": [
    {
     "data": {
      "text/plain": [
       "(array(['－', '-', '&', '+', 'δ', '×', '=', '〈', '」', '「', '―', '／', '≤',\n",
       "        'ㅇ', '*', '≥', '＞', '＜', '÷', '〉', '＼', '』', '『', '＆', '≠', 'ν',\n",
       "        'κ', '⊃', '⊂', '?', '┘', '┗', '┳', '∃', '╋', '┛', '†', 'ㅡ', 'ㅓ',\n",
       "        'ㅀ', 'ㅣ', '＝', 'ㅜ', '┌', 'ρ', 'ㅗ', '：', 'ㅒ', '▼', '♀', '♂', '└',\n",
       "        '｜', '─', '┐', '┓', '┏', '|', '�', 'Σ', '∈', '┣', 'ㅧ', '∠', '￢',\n",
       "        '┍', '┚', 'Π', '↔', '≫', '≪', '【', '╉'], dtype=object),\n",
       " 73)"
      ]
     },
     "execution_count": 4,
     "metadata": {},
     "output_type": "execute_result"
    }
   ],
   "source": [
    "# 보류로 작성된 특수문자들\n",
    "undetermined = special_df.loc[special_df['convert']=='보류', 'specials'].values\n",
    "undetermined_df = pd.DataFrame(undetermined, columns=['specials'])\n",
    "undetermined, len(undetermined)"
   ]
  },
  {
   "cell_type": "code",
   "execution_count": 5,
   "metadata": {},
   "outputs": [],
   "source": [
    "def find_text(df, special):\n",
    "    # df에서 special을 찾는다\n",
    "    ls = []\n",
    "    for i, row in df.iterrows():\n",
    "        if special in row['invention_title'] or special in row['abstract']:\n",
    "            ls.append(i)\n",
    "    return ls"
   ]
  },
  {
   "cell_type": "code",
   "execution_count": 6,
   "metadata": {},
   "outputs": [
    {
     "data": {
      "application/vnd.jupyter.widget-view+json": {
       "model_id": "769ffc091ab04fc0a6869b334e5c0689",
       "version_major": 2,
       "version_minor": 0
      },
      "text/plain": [
       "IntSlider(value=0, description='slider:', max=72)"
      ]
     },
     "metadata": {},
     "output_type": "display_data"
    },
    {
     "data": {
      "application/vnd.jupyter.widget-view+json": {
       "model_id": "65d2e96c729345dd9069614a27fd41a8",
       "version_major": 2,
       "version_minor": 0
      },
      "text/plain": [
       "HBox(children=(Text(value='－', description='특수문자:', disabled=True), Text(value='', description='Convert:', pla…"
      ]
     },
     "metadata": {},
     "output_type": "display_data"
    },
    {
     "data": {
      "application/vnd.jupyter.widget-view+json": {
       "model_id": "1b7aacaabe8b4b09abeb86ccfe0faf9b",
       "version_major": 2,
       "version_minor": 0
      },
      "text/plain": [
       "Button(description='다른 text 보기', style=ButtonStyle())"
      ]
     },
     "metadata": {},
     "output_type": "display_data"
    },
    {
     "data": {
      "application/vnd.jupyter.widget-view+json": {
       "model_id": "7bffe359d93944338bcdf8653e391955",
       "version_major": 2,
       "version_minor": 0
      },
      "text/plain": [
       "HTML(value='Ｎ－스크린을 통한 콘텐츠-광고 통합 배포 관리 방법 및 시스템', description='Title :')"
      ]
     },
     "metadata": {},
     "output_type": "display_data"
    },
    {
     "data": {
      "application/vnd.jupyter.widget-view+json": {
       "model_id": "c26e8b11d7304b3998d526c79f9f250d",
       "version_major": 2,
       "version_minor": 0
      },
      "text/plain": [
       "HTML(value='본 발명은 콘텐츠 프로바이더로부터의 콘텐츠 또는 콘텐츠 관리 시스템에 등록된 콘텐츠와 광고 소재 관리 서버에 등록된 광고 콘텐츠를 동일 형식의 컨테이너에 담아 여러 종류의 이동…"
      ]
     },
     "metadata": {},
     "output_type": "display_data"
    },
    {
     "data": {
      "application/vnd.jupyter.widget-view+json": {
       "model_id": "89cce588f8424834bb25ceed9ca97363",
       "version_major": 2,
       "version_minor": 0
      },
      "text/plain": [
       "HTML(value='네트워크를 통해 콘텐츠와 광고를 통합하여 사용자 단말로 서비스하는 콘텐츠-광고 통합 배포 관리 시스템에 있어서,콘텐츠 프로바이더(CP)로부터 제공된 파일 형태의 CP 콘텐츠에 …"
      ]
     },
     "metadata": {},
     "output_type": "display_data"
    }
   ],
   "source": [
    "import random\n",
    "\n",
    "def show_widgets():\n",
    "    \"\"\"\n",
    "    1.현재 special을 보여주는 항목\n",
    "    \n",
    "    2.이 special을 바꿀 텍스트를 입력할 항목\n",
    "    \n",
    "    3.입력된 텍스트를 저장하고 다음으로 넘어가기 위해 클릭할 버튼\n",
    "\n",
    "    4.해당 special에 대한 abstract (없으면 ''로 출력)\n",
    "    5.해당 special에 대한 invention_title (없으면 ''로 출력)\n",
    "    6.해당 special에 대한 claims (없으면 ''로 출력)\n",
    "\n",
    "    7.다른 글 보여주기\n",
    "    \n",
    "    형식\n",
    "    [1] [2] [3]\n",
    "    [7]\n",
    "    abstract: [4]\n",
    "    invention_titl: [5]\n",
    "    claims: [6]\n",
    "    \"\"\"\n",
    "    slider = widgets.IntSlider(min=0, max=len(undetermined)-1, description='slider:')\n",
    "\n",
    "    def change_idx(change):\n",
    "        idx = change['new']\n",
    "        special_box.value = undetermined[idx]\n",
    "        convert_box.value = ''\n",
    "        df_indices = find_text(text_df, undetermined[idx])\n",
    "        abstract_box.value = text_df.loc[df_indices[0], 'abstract']\n",
    "        invention_title_box.value = text_df.loc[df_indices[0], 'invention_title']\n",
    "        claims_box.value = text_df.loc[df_indices[0], 'claims'] # claims이 nan인 경우는?\n",
    "\n",
    "    slider.observe(change_idx, names='value')\n",
    "    \n",
    "    special_box = widgets.Text(\n",
    "        value=f'{undetermined[0]}',\n",
    "        description='특수문자:',\n",
    "        disabled=True  \n",
    "    )\n",
    "        \n",
    "    convert_box = widgets.Text(\n",
    "        value='',\n",
    "        placeholder='변환할 텍스트 입력',\n",
    "        description='Convert:',\n",
    "        disabled=False   \n",
    "    )\n",
    "\n",
    "    next_button = widgets.Button(\n",
    "        description='저장 후 다음으로',\n",
    "        disabled=False,\n",
    "    )\n",
    "    \n",
    "    def next_click_callback(clicked_button):\n",
    "        undetermined_df.loc[slider.value, 'convert'] = convert_box.value\n",
    "        slider.value += 1\n",
    "\n",
    "    next_button.on_click(next_click_callback)\n",
    "    \n",
    "    postpone_button = widgets.Button(\n",
    "        description='보류',\n",
    "        disabled=False,\n",
    "    )\n",
    "\n",
    "    def postpone_click_callback(clicked_button):\n",
    "        undetermined_df.loc[slider.value, 'convert'] = '보류'\n",
    "        slider.value += 1\n",
    "\n",
    "    postpone_button.on_click(postpone_click_callback)\n",
    "    \n",
    "    another_text_button = widgets.Button(\n",
    "        description='다른 text 보기',\n",
    "        disabled=False,\n",
    "    )\n",
    "    \n",
    "    def another_text_click_callback(clicked_button):\n",
    "        # HTML 박스의 내용 바꾸기\n",
    "        df_indices = find_text(text_df, undetermined[slider.value])\n",
    "        random.shuffle(df_indices)\n",
    "\n",
    "        abstract_box.value = text_df.loc[df_indices[0], 'abstract']\n",
    "        invention_title_box.value = text_df.loc[df_indices[0], 'invention_title']\n",
    "        claims_box.value = text_df.loc[df_indices[0], 'claims']\n",
    "\n",
    "    another_text_button.on_click(another_text_click_callback)\n",
    "\n",
    "    hbox = widgets.HBox([special_box, convert_box, next_button, postpone_button])\n",
    "\n",
    "    df_indices = find_text(text_df, undetermined[0])\n",
    "\n",
    "    invention_title_box = widgets.HTML(\n",
    "        value=text_df.loc[df_indices[0], 'invention_title'],\n",
    "        description='Title :',\n",
    "    )\n",
    "    abstract_box = widgets.HTML(\n",
    "        value=text_df.loc[df_indices[0], 'abstract'],\n",
    "        description='Abstract :',\n",
    "    )\n",
    "    claims_box = widgets.HTML(\n",
    "        value=text_df.loc[df_indices[0], 'claims'],\n",
    "        description='Claims :',\n",
    "    )\n",
    "\n",
    "    display(slider, hbox, another_text_button, invention_title_box, abstract_box, claims_box)\n",
    "\n",
    "show_widgets()"
   ]
  },
  {
   "cell_type": "code",
   "execution_count": 176,
   "metadata": {},
   "outputs": [
    {
     "data": {
      "text/html": [
       "<div>\n",
       "<style scoped>\n",
       "    .dataframe tbody tr th:only-of-type {\n",
       "        vertical-align: middle;\n",
       "    }\n",
       "\n",
       "    .dataframe tbody tr th {\n",
       "        vertical-align: top;\n",
       "    }\n",
       "\n",
       "    .dataframe thead th {\n",
       "        text-align: right;\n",
       "    }\n",
       "</style>\n",
       "<table border=\"1\" class=\"dataframe\">\n",
       "  <thead>\n",
       "    <tr style=\"text-align: right;\">\n",
       "      <th></th>\n",
       "      <th>specials</th>\n",
       "    </tr>\n",
       "  </thead>\n",
       "  <tbody>\n",
       "    <tr>\n",
       "      <th>0</th>\n",
       "      <td>－</td>\n",
       "    </tr>\n",
       "    <tr>\n",
       "      <th>1</th>\n",
       "      <td>-</td>\n",
       "    </tr>\n",
       "    <tr>\n",
       "      <th>2</th>\n",
       "      <td>&amp;</td>\n",
       "    </tr>\n",
       "    <tr>\n",
       "      <th>3</th>\n",
       "      <td>+</td>\n",
       "    </tr>\n",
       "    <tr>\n",
       "      <th>4</th>\n",
       "      <td>δ</td>\n",
       "    </tr>\n",
       "    <tr>\n",
       "      <th>...</th>\n",
       "      <td>...</td>\n",
       "    </tr>\n",
       "    <tr>\n",
       "      <th>68</th>\n",
       "      <td>↔</td>\n",
       "    </tr>\n",
       "    <tr>\n",
       "      <th>69</th>\n",
       "      <td>≫</td>\n",
       "    </tr>\n",
       "    <tr>\n",
       "      <th>70</th>\n",
       "      <td>≪</td>\n",
       "    </tr>\n",
       "    <tr>\n",
       "      <th>71</th>\n",
       "      <td>【</td>\n",
       "    </tr>\n",
       "    <tr>\n",
       "      <th>72</th>\n",
       "      <td>╉</td>\n",
       "    </tr>\n",
       "  </tbody>\n",
       "</table>\n",
       "<p>73 rows × 1 columns</p>\n",
       "</div>"
      ],
      "text/plain": [
       "   specials\n",
       "0         －\n",
       "1         -\n",
       "2         &\n",
       "3         +\n",
       "4         δ\n",
       "..      ...\n",
       "68        ↔\n",
       "69        ≫\n",
       "70        ≪\n",
       "71        【\n",
       "72        ╉\n",
       "\n",
       "[73 rows x 1 columns]"
      ]
     },
     "execution_count": 176,
     "metadata": {},
     "output_type": "execute_result"
    }
   ],
   "source": [
    "undetermined_df"
   ]
  },
  {
   "cell_type": "code",
   "execution_count": 174,
   "metadata": {},
   "outputs": [],
   "source": [
    "undetermined_df.to_csv('./determined.csv', index=False)"
   ]
  },
  {
   "cell_type": "code",
   "execution_count": null,
   "metadata": {},
   "outputs": [],
   "source": []
  }
 ],
 "metadata": {
  "kernelspec": {
   "display_name": "nlp",
   "language": "python",
   "name": "python3"
  },
  "language_info": {
   "codemirror_mode": {
    "name": "ipython",
    "version": 3
   },
   "file_extension": ".py",
   "mimetype": "text/x-python",
   "name": "python",
   "nbconvert_exporter": "python",
   "pygments_lexer": "ipython3",
   "version": "3.9.18"
  }
 },
 "nbformat": 4,
 "nbformat_minor": 2
}
